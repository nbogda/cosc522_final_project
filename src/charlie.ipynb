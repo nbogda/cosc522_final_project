{
 "cells": [
  {
   "cell_type": "code",
   "execution_count": 83,
   "metadata": {},
   "outputs": [],
   "source": [
    "import matplotlib.pyplot as plt\n",
    "import numpy as np\n",
    "import pandas as pd\n",
    "import scipy.stats as stats\n",
    "import os\n",
    "import random as rand\n",
    "import sys\n",
    "import collections\n",
    "from sklearn.model_selection import cross_val_score\n",
    "from sklearn.tree import DecisionTreeRegressor\n",
    "from sklearn.svm import SVR\n",
    "from sklearn.neural_network import MLPRegressor\n",
    "from sklearn.neighbors import KNeighborsRegressor\n",
    "from sklearn.model_selection import train_test_split\n",
    "from sklearn.metrics import mean_squared_log_error\n",
    "from sklearn.multioutput import MultiOutputRegressor\n",
    "from sklearn.linear_model import LinearRegression"
   ]
  },
  {
   "cell_type": "code",
   "execution_count": 47,
   "metadata": {},
   "outputs": [],
   "source": [
    "def readInCSV():\n",
    "    train = pd.read_csv(\"../data/PCA_split_data_train.csv\")\n",
    "    col_names_tr = list(train.columns)\n",
    "    row_tr, columns_tr = train.shape\n",
    "    \n",
    "    test = pd.read_csv(\"../data/PCA_split_data_test.csv\")\n",
    "    col_names_test = list(test.columns)\n",
    "    row_test, columns_test = test.shape\n",
    " \n",
    "    #split data into \"labels\" and predictors (The actual trainging set was split 70-30 since the testing set has no outcomes)\n",
    "    X_tr = [] #predictors training\n",
    "    y_tr = [] #predictions training\n",
    "    X_test = [] #features testing\n",
    "    y_test = [] #predicitions testing\n",
    "    \n",
    "    for index, row in train.iterrows():\n",
    "        y_tr.append(list(row.ix[1:13]))\n",
    "        X_tr.append(list(row.ix[13:]))\n",
    "        \n",
    "    for index, row in test.iterrows():\n",
    "        y_test.append(list(row.ix[1:13]))\n",
    "        X_test.append(list(row.ix[13:]))\n",
    "        \n",
    "    return X_tr,y_tr,X_test,y_test"
   ]
  },
  {
   "cell_type": "code",
   "execution_count": null,
   "metadata": {},
   "outputs": [],
   "source": [
    "X_tr,y_tr,X_test,y_test = readInCSV()"
   ]
  },
  {
   "cell_type": "markdown",
   "metadata": {},
   "source": [
    "## Decision Tree Stuff"
   ]
  },
  {
   "cell_type": "code",
   "execution_count": 57,
   "metadata": {},
   "outputs": [
    {
     "name": "stdout",
     "output_type": "stream",
     "text": [
      "[ 3.53910076  3.45860838  3.09696     2.63942553  5.29946485  7.97723658\n",
      "  8.89574233  9.05689771 10.86028886 11.57716424 12.05406518 12.97057244]\n",
      "7.6187939056021206\n"
     ]
    }
   ],
   "source": [
    "regressor = DecisionTreeRegressor(random_state=0)\n",
    "regressor.fit(X_tr,y_tr)\n",
    "y_pred = regressor.predict(X_test)\n",
    "print(mean_squared_log_error(y_test, y_pred,multioutput='raw_values'))\n",
    "print(mean_squared_log_error(y_test, y_pred))\n",
    "#cross_val_score(regressor, X, y, cv=10)"
   ]
  },
  {
   "cell_type": "markdown",
   "metadata": {},
   "source": [
    "## SVM/SVR Stuff"
   ]
  },
  {
   "cell_type": "code",
   "execution_count": 66,
   "metadata": {},
   "outputs": [
    {
     "name": "stdout",
     "output_type": "stream",
     "text": [
      "[1.81985953 1.99420302 1.89384106 1.73935281 2.91556383 3.83330683\n",
      " 4.20553817 4.44171339 4.99353444 6.26566281 6.72376065 7.07012926]\n",
      "3.9913721514098413\n"
     ]
    }
   ],
   "source": [
    "clf = SVR(kernel=\"rbf\",gamma='auto', C=1.0, epsilon=0.2)\n",
    "multi_clf = MultiOutputRegressor(clf)\n",
    "multi_clf.fit(X_tr,y_tr)\n",
    "y_pred = multi_clf.predict(X_test)\n",
    "print(mean_squared_log_error(y_test, y_pred,multioutput='raw_values'))\n",
    "print(mean_squared_log_error(y_test, y_pred))\n",
    "#cross_val_score(clf, X, y_col_1, cv=10)"
   ]
  },
  {
   "cell_type": "markdown",
   "metadata": {},
   "source": [
    "## MLP(NN) Stuff -- Note: np.abs() needs to be used on prediction because it guesses negative values sometimes... oh well"
   ]
  },
  {
   "cell_type": "code",
   "execution_count": 74,
   "metadata": {},
   "outputs": [
    {
     "name": "stdout",
     "output_type": "stream",
     "text": [
      "[6.19473084 6.32898738 5.58531851 4.69080572 6.1831937  7.41246978\n",
      " 6.93758257 7.47236649 7.45918365 9.07976858 9.4174763  9.56094075]\n",
      "7.1935686892313555\n"
     ]
    }
   ],
   "source": [
    "bpnn = MLPRegressor(max_iter = 50000) #Very basic BPNN/MLP\n",
    "bpnn.fit(X_tr,y_tr)\n",
    "y_pred = bpnn.predict(X_test)\n",
    "print(mean_squared_log_error(y_test, np.abs(y_pred),multioutput='raw_values')) #It's weird that it predicts negative vals.. oh well\n",
    "print(mean_squared_log_error(y_test, np.abs(y_pred)))"
   ]
  },
  {
   "cell_type": "markdown",
   "metadata": {},
   "source": [
    "## kNN Stuff\n"
   ]
  },
  {
   "cell_type": "code",
   "execution_count": 82,
   "metadata": {},
   "outputs": [
    {
     "name": "stdout",
     "output_type": "stream",
     "text": [
      "[1.88676265 2.32916487 2.33920056 2.08201809 2.9966589  4.1162746\n",
      " 4.16615512 5.00810449 5.32552754 7.05017885 7.04512805 7.28511477]\n",
      "4.3025240412773655\n"
     ]
    }
   ],
   "source": [
    "neigh = KNeighborsRegressor(n_neighbors=5)\n",
    "neigh.fit(X_tr,y_tr)\n",
    "y_pred = neigh.predict(X_test)\n",
    "print(mean_squared_log_error(y_test, y_pred,multioutput='raw_values'))\n",
    "print(mean_squared_log_error(y_test, y_pred))"
   ]
  },
  {
   "cell_type": "markdown",
   "metadata": {},
   "source": [
    "## Linear Regression -- Note: np.abs() needs to be used on prediction because it guesses negative values sometimes... oh well"
   ]
  },
  {
   "cell_type": "code",
   "execution_count": 87,
   "metadata": {},
   "outputs": [
    {
     "name": "stdout",
     "output_type": "stream",
     "text": [
      "[3.83255946 4.26625897 3.58306293 2.95515938 4.10494008 5.14054079\n",
      " 5.36255821 6.10773284 6.9171529  7.91628175 8.18611934 9.10135665]\n",
      "5.622810274376421\n"
     ]
    }
   ],
   "source": [
    "reg = LinearRegression()\n",
    "reg.fit(X_tr,y_tr)\n",
    "y_pred = reg.predict(X_test)\n",
    "print(mean_squared_log_error(y_test, np.abs(y_pred),multioutput='raw_values'))\n",
    "print(mean_squared_log_error(y_test, np.abs(y_pred)))"
   ]
  }
 ],
 "metadata": {
  "kernelspec": {
   "display_name": "Python 3",
   "language": "python",
   "name": "python3"
  },
  "language_info": {
   "codemirror_mode": {
    "name": "ipython",
    "version": 3
   },
   "file_extension": ".py",
   "mimetype": "text/x-python",
   "name": "python",
   "nbconvert_exporter": "python",
   "pygments_lexer": "ipython3",
   "version": "3.7.4"
  }
 },
 "nbformat": 4,
 "nbformat_minor": 2
}
